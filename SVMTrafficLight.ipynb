{
 "cells": [
  {
   "cell_type": "code",
   "execution_count": 12,
   "metadata": {},
   "outputs": [],
   "source": [
    "import pandas as pd  \n",
    "import numpy as np  \n",
    "import matplotlib.pyplot as plt \n",
    "\n",
    "from sklearn.model_selection import train_test_split  \n",
    "from sklearn.svm import SVC"
   ]
  },
  {
   "cell_type": "markdown",
   "metadata": {},
   "source": [
    "# Load of the file of data about the 50 last meters to the traffic light \n"
   ]
  },
  {
   "cell_type": "code",
   "execution_count": 13,
   "metadata": {},
   "outputs": [
    {
     "data": {
      "text/html": [
       "<div>\n",
       "<style scoped>\n",
       "    .dataframe tbody tr th:only-of-type {\n",
       "        vertical-align: middle;\n",
       "    }\n",
       "\n",
       "    .dataframe tbody tr th {\n",
       "        vertical-align: top;\n",
       "    }\n",
       "\n",
       "    .dataframe thead th {\n",
       "        text-align: right;\n",
       "    }\n",
       "</style>\n",
       "<table border=\"1\" class=\"dataframe\">\n",
       "  <thead>\n",
       "    <tr style=\"text-align: right;\">\n",
       "      <th></th>\n",
       "      <th>55</th>\n",
       "      <th>50</th>\n",
       "      <th>45</th>\n",
       "      <th>40</th>\n",
       "      <th>35</th>\n",
       "      <th>30</th>\n",
       "      <th>25</th>\n",
       "      <th>20</th>\n",
       "      <th>15</th>\n",
       "      <th>10</th>\n",
       "      <th>5</th>\n",
       "      <th>class</th>\n",
       "    </tr>\n",
       "  </thead>\n",
       "  <tbody>\n",
       "    <tr>\n",
       "      <th>0</th>\n",
       "      <td>29.34</td>\n",
       "      <td>29.34</td>\n",
       "      <td>29.34</td>\n",
       "      <td>29.33</td>\n",
       "      <td>29.33</td>\n",
       "      <td>29.33</td>\n",
       "      <td>29.34</td>\n",
       "      <td>29.33</td>\n",
       "      <td>29.33</td>\n",
       "      <td>29.32</td>\n",
       "      <td>29.32</td>\n",
       "      <td>0</td>\n",
       "    </tr>\n",
       "    <tr>\n",
       "      <th>1</th>\n",
       "      <td>35.45</td>\n",
       "      <td>35.46</td>\n",
       "      <td>35.47</td>\n",
       "      <td>35.47</td>\n",
       "      <td>35.46</td>\n",
       "      <td>35.47</td>\n",
       "      <td>35.46</td>\n",
       "      <td>35.45</td>\n",
       "      <td>35.47</td>\n",
       "      <td>35.37</td>\n",
       "      <td>35.18</td>\n",
       "      <td>0</td>\n",
       "    </tr>\n",
       "    <tr>\n",
       "      <th>2</th>\n",
       "      <td>37.17</td>\n",
       "      <td>36.94</td>\n",
       "      <td>36.73</td>\n",
       "      <td>36.59</td>\n",
       "      <td>36.41</td>\n",
       "      <td>36.21</td>\n",
       "      <td>36.00</td>\n",
       "      <td>35.86</td>\n",
       "      <td>35.68</td>\n",
       "      <td>35.45</td>\n",
       "      <td>35.25</td>\n",
       "      <td>0</td>\n",
       "    </tr>\n",
       "    <tr>\n",
       "      <th>3</th>\n",
       "      <td>36.70</td>\n",
       "      <td>36.49</td>\n",
       "      <td>36.36</td>\n",
       "      <td>36.17</td>\n",
       "      <td>35.96</td>\n",
       "      <td>35.77</td>\n",
       "      <td>35.58</td>\n",
       "      <td>35.43</td>\n",
       "      <td>35.24</td>\n",
       "      <td>35.05</td>\n",
       "      <td>35.08</td>\n",
       "      <td>1</td>\n",
       "    </tr>\n",
       "    <tr>\n",
       "      <th>4</th>\n",
       "      <td>37.07</td>\n",
       "      <td>36.85</td>\n",
       "      <td>36.72</td>\n",
       "      <td>36.51</td>\n",
       "      <td>36.31</td>\n",
       "      <td>36.08</td>\n",
       "      <td>35.96</td>\n",
       "      <td>35.72</td>\n",
       "      <td>35.51</td>\n",
       "      <td>35.33</td>\n",
       "      <td>35.26</td>\n",
       "      <td>1</td>\n",
       "    </tr>\n",
       "  </tbody>\n",
       "</table>\n",
       "</div>"
      ],
      "text/plain": [
       "      55     50     45     40     35     30     25     20     15     10  \\\n",
       "0  29.34  29.34  29.34  29.33  29.33  29.33  29.34  29.33  29.33  29.32   \n",
       "1  35.45  35.46  35.47  35.47  35.46  35.47  35.46  35.45  35.47  35.37   \n",
       "2  37.17  36.94  36.73  36.59  36.41  36.21  36.00  35.86  35.68  35.45   \n",
       "3  36.70  36.49  36.36  36.17  35.96  35.77  35.58  35.43  35.24  35.05   \n",
       "4  37.07  36.85  36.72  36.51  36.31  36.08  35.96  35.72  35.51  35.33   \n",
       "\n",
       "       5  class  \n",
       "0  29.32      0  \n",
       "1  35.18      0  \n",
       "2  35.25      0  \n",
       "3  35.08      1  \n",
       "4  35.26      1  "
      ]
     },
     "execution_count": 13,
     "metadata": {},
     "output_type": "execute_result"
    }
   ],
   "source": [
    "badBehaviourData = pd.read_csv(\"C:/Users/Ivan/Desktop/badBehaviour.txt\",delim_whitespace=True, names =[ 55,  50, 45,  40,  35,  30,  25,  20,  15,  10,  5, \"class\"])  \n",
    "badBehaviourData.head()"
   ]
  },
  {
   "cell_type": "markdown",
   "metadata": {},
   "source": [
    "# Division of the data in x and y axis\n",
    "We need to separate the class column that shows when a vehicle have a red light running (1), known as bad behaviour, and a right stop at the traffic light, known as right behaviour (0)\n",
    "\n",
    "> bad behaviour **(1)**\n",
    "\n",
    "> good behaviour **(0)**"
   ]
  },
  {
   "cell_type": "code",
   "execution_count": 14,
   "metadata": {},
   "outputs": [],
   "source": [
    "x = badBehaviourData.drop('class', axis=1)  \n",
    "y = badBehaviourData['class']"
   ]
  },
  {
   "cell_type": "markdown",
   "metadata": {},
   "source": [
    "# Division of the data in training, test and validation datasets\n",
    "To do this we divide first all the data into training and test, and later we divide again the training dataset into training and validation"
   ]
  },
  {
   "cell_type": "code",
   "execution_count": 15,
   "metadata": {},
   "outputs": [],
   "source": [
    "x_train, x_test, y_train, y_test = train_test_split(x, y, test_size=0.2, random_state=1)\n",
    "\n",
    "x_train, x_val, y_train, y_val = train_test_split(x_train, y_train, test_size=0.2, random_state=1)"
   ]
  },
  {
   "cell_type": "markdown",
   "metadata": {},
   "source": [
    "# Training Phase\n",
    "Now we have separate the different datasets we can train our SVM using the training data. Scikit-Learn contains the svm library, which contains built-in classes for different SVM algorithms. This class takes one parameter, which is the kernel type. This is very important. In the case of a simple SVM we simply set this parameter as \"linear\" since simple SVMs can only classify linearly separable data.\n",
    "\n",
    "The fit method of SVC class is called to train the algorithm on the training data, which is passed as a parameter to the fit method."
   ]
  },
  {
   "cell_type": "code",
   "execution_count": 16,
   "metadata": {},
   "outputs": [
    {
     "data": {
      "text/plain": [
       "SVC(C=1.0, cache_size=200, class_weight=None, coef0=0.0,\n",
       "  decision_function_shape='ovr', degree=3, gamma='auto_deprecated',\n",
       "  kernel='linear', max_iter=-1, probability=False, random_state=None,\n",
       "  shrinking=True, tol=0.001, verbose=False)"
      ]
     },
     "execution_count": 16,
     "metadata": {},
     "output_type": "execute_result"
    }
   ],
   "source": [
    "svclassifier = SVC(kernel='linear')  \n",
    "svclassifier.fit(x_train, y_train)"
   ]
  },
  {
   "cell_type": "code",
   "execution_count": null,
   "metadata": {},
   "outputs": [],
   "source": []
  }
 ],
 "metadata": {
  "kernelspec": {
   "display_name": "Python 3",
   "language": "python",
   "name": "python3"
  },
  "language_info": {
   "codemirror_mode": {
    "name": "ipython",
    "version": 3
   },
   "file_extension": ".py",
   "mimetype": "text/x-python",
   "name": "python",
   "nbconvert_exporter": "python",
   "pygments_lexer": "ipython3",
   "version": "3.7.3"
  }
 },
 "nbformat": 4,
 "nbformat_minor": 2
}
